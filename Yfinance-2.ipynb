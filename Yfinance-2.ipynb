{
 "cells": [
  {
   "cell_type": "code",
   "execution_count": 1,
   "id": "8fe544ff-21b9-4411-9d3b-c42eee05e85a",
   "metadata": {},
   "outputs": [
    {
     "name": "stdout",
     "output_type": "stream",
     "text": [
      "Requirement already satisfied: yfinance in c:\\users\\zbook firefly 14 g8\\anaconda3\\envs\\shifa\\lib\\site-packages (0.2.51)\n",
      "Requirement already satisfied: pandas>=1.3.0 in c:\\users\\zbook firefly 14 g8\\anaconda3\\envs\\shifa\\lib\\site-packages (from yfinance) (2.2.3)\n",
      "Requirement already satisfied: numpy>=1.16.5 in c:\\users\\zbook firefly 14 g8\\anaconda3\\envs\\shifa\\lib\\site-packages (from yfinance) (2.0.1)\n",
      "Requirement already satisfied: requests>=2.31 in c:\\users\\zbook firefly 14 g8\\anaconda3\\envs\\shifa\\lib\\site-packages (from yfinance) (2.32.3)\n",
      "Requirement already satisfied: multitasking>=0.0.7 in c:\\users\\zbook firefly 14 g8\\anaconda3\\envs\\shifa\\lib\\site-packages (from yfinance) (0.0.11)\n",
      "Requirement already satisfied: lxml>=4.9.1 in c:\\users\\zbook firefly 14 g8\\anaconda3\\envs\\shifa\\lib\\site-packages (from yfinance) (5.3.0)\n",
      "Requirement already satisfied: platformdirs>=2.0.0 in c:\\users\\zbook firefly 14 g8\\anaconda3\\envs\\shifa\\lib\\site-packages (from yfinance) (3.10.0)\n",
      "Requirement already satisfied: pytz>=2022.5 in c:\\users\\zbook firefly 14 g8\\anaconda3\\envs\\shifa\\lib\\site-packages (from yfinance) (2024.1)\n",
      "Requirement already satisfied: frozendict>=2.3.4 in c:\\users\\zbook firefly 14 g8\\anaconda3\\envs\\shifa\\lib\\site-packages (from yfinance) (2.4.6)\n",
      "Requirement already satisfied: peewee>=3.16.2 in c:\\users\\zbook firefly 14 g8\\anaconda3\\envs\\shifa\\lib\\site-packages (from yfinance) (3.17.8)\n",
      "Requirement already satisfied: beautifulsoup4>=4.11.1 in c:\\users\\zbook firefly 14 g8\\anaconda3\\envs\\shifa\\lib\\site-packages (from yfinance) (4.12.3)\n",
      "Requirement already satisfied: html5lib>=1.1 in c:\\users\\zbook firefly 14 g8\\anaconda3\\envs\\shifa\\lib\\site-packages (from yfinance) (1.1)\n",
      "Requirement already satisfied: soupsieve>1.2 in c:\\users\\zbook firefly 14 g8\\anaconda3\\envs\\shifa\\lib\\site-packages (from beautifulsoup4>=4.11.1->yfinance) (2.5)\n",
      "Requirement already satisfied: six>=1.9 in c:\\users\\zbook firefly 14 g8\\anaconda3\\envs\\shifa\\lib\\site-packages (from html5lib>=1.1->yfinance) (1.16.0)\n",
      "Requirement already satisfied: webencodings in c:\\users\\zbook firefly 14 g8\\anaconda3\\envs\\shifa\\lib\\site-packages (from html5lib>=1.1->yfinance) (0.5.1)\n",
      "Requirement already satisfied: python-dateutil>=2.8.2 in c:\\users\\zbook firefly 14 g8\\anaconda3\\envs\\shifa\\lib\\site-packages (from pandas>=1.3.0->yfinance) (2.9.0.post0)\n",
      "Requirement already satisfied: tzdata>=2022.7 in c:\\users\\zbook firefly 14 g8\\anaconda3\\envs\\shifa\\lib\\site-packages (from pandas>=1.3.0->yfinance) (2024.2)\n",
      "Requirement already satisfied: charset-normalizer<4,>=2 in c:\\users\\zbook firefly 14 g8\\anaconda3\\envs\\shifa\\lib\\site-packages (from requests>=2.31->yfinance) (3.3.2)\n",
      "Requirement already satisfied: idna<4,>=2.5 in c:\\users\\zbook firefly 14 g8\\anaconda3\\envs\\shifa\\lib\\site-packages (from requests>=2.31->yfinance) (3.7)\n",
      "Requirement already satisfied: urllib3<3,>=1.21.1 in c:\\users\\zbook firefly 14 g8\\anaconda3\\envs\\shifa\\lib\\site-packages (from requests>=2.31->yfinance) (2.2.3)\n",
      "Requirement already satisfied: certifi>=2017.4.17 in c:\\users\\zbook firefly 14 g8\\anaconda3\\envs\\shifa\\lib\\site-packages (from requests>=2.31->yfinance) (2024.12.14)\n",
      "Note: you may need to restart the kernel to use updated packages.\n"
     ]
    }
   ],
   "source": [
    "pip install yfinance"
   ]
  },
  {
   "cell_type": "code",
   "execution_count": 3,
   "id": "e1722d09-7ac8-4408-bf5a-d151240e2e3f",
   "metadata": {},
   "outputs": [],
   "source": [
    "import yfinance as yf\n",
    "import pandas as pd\n",
    "import matplotlib.pyplot as plt"
   ]
  },
  {
   "cell_type": "code",
   "execution_count": 5,
   "id": "2b3cedee-ac9d-4fc8-9948-f63775f2f1d2",
   "metadata": {},
   "outputs": [],
   "source": [
    "nvidia = yf.Ticker('NVDA')\n",
    "nvidia_data = nvidia.history(period='max')  # period='max' หมายถึงข้อมูลทั้งหมดที่มี"
   ]
  },
  {
   "cell_type": "code",
   "execution_count": 7,
   "id": "e19ad8bc-6d56-484d-b63e-14f645e2399c",
   "metadata": {},
   "outputs": [
    {
     "name": "stdout",
     "output_type": "stream",
     "text": [
      "<class 'pandas.core.frame.DataFrame'>\n",
      "DatetimeIndex: 6536 entries, 1999-01-22 00:00:00-05:00 to 2025-01-14 00:00:00-05:00\n",
      "Data columns (total 7 columns):\n",
      " #   Column        Non-Null Count  Dtype  \n",
      "---  ------        --------------  -----  \n",
      " 0   Open          6536 non-null   float64\n",
      " 1   High          6536 non-null   float64\n",
      " 2   Low           6536 non-null   float64\n",
      " 3   Close         6536 non-null   float64\n",
      " 4   Volume        6536 non-null   int64  \n",
      " 5   Dividends     6536 non-null   float64\n",
      " 6   Stock Splits  6536 non-null   float64\n",
      "dtypes: float64(6), int64(1)\n",
      "memory usage: 408.5 KB\n"
     ]
    }
   ],
   "source": [
    "nvidia_data.head()  # ดูข้อมูล 5 แถวแรก\n",
    "nvidia_data.info()  # ดูข้อมูลทั่วไปเกี่ยวกับ DataFrame"
   ]
  },
  {
   "cell_type": "code",
   "execution_count": 9,
   "id": "1596e7d6-f54a-448b-8e3e-8e1b30efa04e",
   "metadata": {},
   "outputs": [
    {
     "data": {
      "text/html": [
       "<div>\n",
       "<style scoped>\n",
       "    .dataframe tbody tr th:only-of-type {\n",
       "        vertical-align: middle;\n",
       "    }\n",
       "\n",
       "    .dataframe tbody tr th {\n",
       "        vertical-align: top;\n",
       "    }\n",
       "\n",
       "    .dataframe thead th {\n",
       "        text-align: right;\n",
       "    }\n",
       "</style>\n",
       "<table border=\"1\" class=\"dataframe\">\n",
       "  <thead>\n",
       "    <tr style=\"text-align: right;\">\n",
       "      <th></th>\n",
       "      <th>Open</th>\n",
       "      <th>High</th>\n",
       "      <th>Low</th>\n",
       "      <th>Close</th>\n",
       "      <th>Volume</th>\n",
       "      <th>Dividends</th>\n",
       "      <th>Stock Splits</th>\n",
       "    </tr>\n",
       "  </thead>\n",
       "  <tbody>\n",
       "    <tr>\n",
       "      <th>count</th>\n",
       "      <td>6536.000000</td>\n",
       "      <td>6536.000000</td>\n",
       "      <td>6536.000000</td>\n",
       "      <td>6536.000000</td>\n",
       "      <td>6.536000e+03</td>\n",
       "      <td>6536.000000</td>\n",
       "      <td>6536.000000</td>\n",
       "    </tr>\n",
       "    <tr>\n",
       "      <th>mean</th>\n",
       "      <td>8.358263</td>\n",
       "      <td>8.509659</td>\n",
       "      <td>8.190281</td>\n",
       "      <td>8.355665</td>\n",
       "      <td>6.001491e+08</td>\n",
       "      <td>0.000028</td>\n",
       "      <td>0.003289</td>\n",
       "    </tr>\n",
       "    <tr>\n",
       "      <th>std</th>\n",
       "      <td>22.886527</td>\n",
       "      <td>23.288038</td>\n",
       "      <td>22.405942</td>\n",
       "      <td>22.856052</td>\n",
       "      <td>4.309793e+08</td>\n",
       "      <td>0.000358</td>\n",
       "      <td>0.141139</td>\n",
       "    </tr>\n",
       "    <tr>\n",
       "      <th>min</th>\n",
       "      <td>0.032003</td>\n",
       "      <td>0.032600</td>\n",
       "      <td>0.030569</td>\n",
       "      <td>0.031286</td>\n",
       "      <td>1.968000e+07</td>\n",
       "      <td>0.000000</td>\n",
       "      <td>0.000000</td>\n",
       "    </tr>\n",
       "    <tr>\n",
       "      <th>25%</th>\n",
       "      <td>0.256727</td>\n",
       "      <td>0.263662</td>\n",
       "      <td>0.250250</td>\n",
       "      <td>0.256836</td>\n",
       "      <td>3.396370e+08</td>\n",
       "      <td>0.000000</td>\n",
       "      <td>0.000000</td>\n",
       "    </tr>\n",
       "    <tr>\n",
       "      <th>50%</th>\n",
       "      <td>0.435995</td>\n",
       "      <td>0.442494</td>\n",
       "      <td>0.428948</td>\n",
       "      <td>0.436321</td>\n",
       "      <td>5.013045e+08</td>\n",
       "      <td>0.000000</td>\n",
       "      <td>0.000000</td>\n",
       "    </tr>\n",
       "    <tr>\n",
       "      <th>75%</th>\n",
       "      <td>4.493457</td>\n",
       "      <td>4.555518</td>\n",
       "      <td>4.444132</td>\n",
       "      <td>4.506021</td>\n",
       "      <td>7.313220e+08</td>\n",
       "      <td>0.000000</td>\n",
       "      <td>0.000000</td>\n",
       "    </tr>\n",
       "    <tr>\n",
       "      <th>max</th>\n",
       "      <td>153.029999</td>\n",
       "      <td>153.130005</td>\n",
       "      <td>147.820007</td>\n",
       "      <td>149.429993</td>\n",
       "      <td>9.230856e+09</td>\n",
       "      <td>0.010000</td>\n",
       "      <td>10.000000</td>\n",
       "    </tr>\n",
       "  </tbody>\n",
       "</table>\n",
       "</div>"
      ],
      "text/plain": [
       "              Open         High          Low        Close        Volume  \\\n",
       "count  6536.000000  6536.000000  6536.000000  6536.000000  6.536000e+03   \n",
       "mean      8.358263     8.509659     8.190281     8.355665  6.001491e+08   \n",
       "std      22.886527    23.288038    22.405942    22.856052  4.309793e+08   \n",
       "min       0.032003     0.032600     0.030569     0.031286  1.968000e+07   \n",
       "25%       0.256727     0.263662     0.250250     0.256836  3.396370e+08   \n",
       "50%       0.435995     0.442494     0.428948     0.436321  5.013045e+08   \n",
       "75%       4.493457     4.555518     4.444132     4.506021  7.313220e+08   \n",
       "max     153.029999   153.130005   147.820007   149.429993  9.230856e+09   \n",
       "\n",
       "         Dividends  Stock Splits  \n",
       "count  6536.000000   6536.000000  \n",
       "mean      0.000028      0.003289  \n",
       "std       0.000358      0.141139  \n",
       "min       0.000000      0.000000  \n",
       "25%       0.000000      0.000000  \n",
       "50%       0.000000      0.000000  \n",
       "75%       0.000000      0.000000  \n",
       "max       0.010000     10.000000  "
      ]
     },
     "execution_count": 9,
     "metadata": {},
     "output_type": "execute_result"
    }
   ],
   "source": [
    "nvidia_data.describe()  # สรุปค่าสถิติ เช่น ค่ามากสุด ค่าน้อยสุด ค่าเฉลี่ย"
   ]
  },
  {
   "cell_type": "code",
   "execution_count": 11,
   "id": "d3b19d1f-7f69-4cc7-8c8d-ebe6b1e874d8",
   "metadata": {},
   "outputs": [
    {
     "name": "stdout",
     "output_type": "stream",
     "text": [
      "ราคาปิดสูงสุด: 149.42999267578125\n",
      "ราคาปิดต่ำสุด: 0.03128636255860329\n"
     ]
    }
   ],
   "source": [
    "max_price = nvidia_data['Close'].max()\n",
    "min_price = nvidia_data['Close'].min()\n",
    "print(f\"ราคาปิดสูงสุด: {max_price}\")\n",
    "print(f\"ราคาปิดต่ำสุด: {min_price}\")"
   ]
  },
  {
   "cell_type": "code",
   "execution_count": 13,
   "id": "3ec64c50-7990-4425-88c1-9a87effe0da5",
   "metadata": {},
   "outputs": [
    {
     "name": "stdout",
     "output_type": "stream",
     "text": [
      "ราคาเฉลี่ย: 8.35566544870708\n"
     ]
    }
   ],
   "source": [
    "avg_price = nvidia_data['Close'].mean()\n",
    "print(f\"ราคาเฉลี่ย: {avg_price}\")"
   ]
  },
  {
   "cell_type": "code",
   "execution_count": 15,
   "id": "1402954b-f9d2-47e9-91ce-4acc05d9fed3",
   "metadata": {},
   "outputs": [
    {
     "data": {
      "image/png": "[encoded data removed]",
      "text/plain": [
       "<Figure size 1000x600 with 1 Axes>"
      ]
     },
     "metadata": {},
     "output_type": "display_data"
    }
   ],
   "source": [
    "nvidia_data['Close'].plot(title=\"NVIDIA Stock Price (All Time)\", figsize=(10, 6))\n",
    "plt.xlabel(\"Date\")\n",
    "plt.ylabel(\"Closing Price\")\n",
    "plt.grid(True)\n",
    "plt.show()"
   ]
  },
  {
   "cell_type": "code",
   "execution_count": 17,
   "id": "e933614c-5128-4af7-a3f4-7ae925c1d743",
   "metadata": {},
   "outputs": [],
   "source": [
    "nvidia_data.to_csv('nvidia_stock_data_all_time.csv')"
   ]
  },
  {
   "cell_type": "code",
   "execution_count": 19,
   "id": "2b4b4b01-a886-463c-9e1b-008814bb02d8",
   "metadata": {},
   "outputs": [
    {
     "data": {
      "text/plain": [
       "yfinance.Ticker object <NVDA>"
      ]
     },
     "execution_count": 19,
     "metadata": {},
     "output_type": "execute_result"
    }
   ],
   "source": [
    "nvidia"
   ]
  },
  {
   "cell_type": "code",
   "execution_count": 23,
   "id": "aeece744-a535-4cd7-890a-7684a332653f",
   "metadata": {},
   "outputs": [
    {
     "data": {
      "text/html": [
       "<div>\n",
       "<style scoped>\n",
       "    .dataframe tbody tr th:only-of-type {\n",
       "        vertical-align: middle;\n",
       "    }\n",
       "\n",
       "    .dataframe tbody tr th {\n",
       "        vertical-align: top;\n",
       "    }\n",
       "\n",
       "    .dataframe thead th {\n",
       "        text-align: right;\n",
       "    }\n",
       "</style>\n",
       "<table border=\"1\" class=\"dataframe\">\n",
       "  <thead>\n",
       "    <tr style=\"text-align: right;\">\n",
       "      <th></th>\n",
       "      <th>Open</th>\n",
       "      <th>High</th>\n",
       "      <th>Low</th>\n",
       "      <th>Close</th>\n",
       "      <th>Volume</th>\n",
       "      <th>Dividends</th>\n",
       "      <th>Stock Splits</th>\n",
       "    </tr>\n",
       "    <tr>\n",
       "      <th>Date</th>\n",
       "      <th></th>\n",
       "      <th></th>\n",
       "      <th></th>\n",
       "      <th></th>\n",
       "      <th></th>\n",
       "      <th></th>\n",
       "      <th></th>\n",
       "    </tr>\n",
       "  </thead>\n",
       "  <tbody>\n",
       "    <tr>\n",
       "      <th>1999-01-22 00:00:00-05:00</th>\n",
       "      <td>0.040122</td>\n",
       "      <td>0.044779</td>\n",
       "      <td>0.035585</td>\n",
       "      <td>0.037615</td>\n",
       "      <td>2714688000</td>\n",
       "      <td>0.0</td>\n",
       "      <td>0.0</td>\n",
       "    </tr>\n",
       "    <tr>\n",
       "      <th>1999-01-25 00:00:00-05:00</th>\n",
       "      <td>0.040600</td>\n",
       "      <td>0.042033</td>\n",
       "      <td>0.037615</td>\n",
       "      <td>0.041556</td>\n",
       "      <td>510480000</td>\n",
       "      <td>0.0</td>\n",
       "      <td>0.0</td>\n",
       "    </tr>\n",
       "    <tr>\n",
       "      <th>1999-01-26 00:00:00-05:00</th>\n",
       "      <td>0.042033</td>\n",
       "      <td>0.042869</td>\n",
       "      <td>0.037734</td>\n",
       "      <td>0.038331</td>\n",
       "      <td>343200000</td>\n",
       "      <td>0.0</td>\n",
       "      <td>0.0</td>\n",
       "    </tr>\n",
       "    <tr>\n",
       "      <th>1999-01-27 00:00:00-05:00</th>\n",
       "      <td>0.038451</td>\n",
       "      <td>0.039406</td>\n",
       "      <td>0.036301</td>\n",
       "      <td>0.038212</td>\n",
       "      <td>244368000</td>\n",
       "      <td>0.0</td>\n",
       "      <td>0.0</td>\n",
       "    </tr>\n",
       "    <tr>\n",
       "      <th>1999-01-28 00:00:00-05:00</th>\n",
       "      <td>0.038212</td>\n",
       "      <td>0.038451</td>\n",
       "      <td>0.037854</td>\n",
       "      <td>0.038092</td>\n",
       "      <td>227520000</td>\n",
       "      <td>0.0</td>\n",
       "      <td>0.0</td>\n",
       "    </tr>\n",
       "    <tr>\n",
       "      <th>...</th>\n",
       "      <td>...</td>\n",
       "      <td>...</td>\n",
       "      <td>...</td>\n",
       "      <td>...</td>\n",
       "      <td>...</td>\n",
       "      <td>...</td>\n",
       "      <td>...</td>\n",
       "    </tr>\n",
       "    <tr>\n",
       "      <th>2025-01-07 00:00:00-05:00</th>\n",
       "      <td>153.029999</td>\n",
       "      <td>153.130005</td>\n",
       "      <td>140.009995</td>\n",
       "      <td>140.139999</td>\n",
       "      <td>351782200</td>\n",
       "      <td>0.0</td>\n",
       "      <td>0.0</td>\n",
       "    </tr>\n",
       "    <tr>\n",
       "      <th>2025-01-08 00:00:00-05:00</th>\n",
       "      <td>142.580002</td>\n",
       "      <td>143.949997</td>\n",
       "      <td>137.559998</td>\n",
       "      <td>140.110001</td>\n",
       "      <td>227349900</td>\n",
       "      <td>0.0</td>\n",
       "      <td>0.0</td>\n",
       "    </tr>\n",
       "    <tr>\n",
       "      <th>2025-01-10 00:00:00-05:00</th>\n",
       "      <td>137.449997</td>\n",
       "      <td>139.919998</td>\n",
       "      <td>134.220001</td>\n",
       "      <td>135.910004</td>\n",
       "      <td>207602500</td>\n",
       "      <td>0.0</td>\n",
       "      <td>0.0</td>\n",
       "    </tr>\n",
       "    <tr>\n",
       "      <th>2025-01-13 00:00:00-05:00</th>\n",
       "      <td>129.990005</td>\n",
       "      <td>133.490005</td>\n",
       "      <td>129.509995</td>\n",
       "      <td>133.229996</td>\n",
       "      <td>204808900</td>\n",
       "      <td>0.0</td>\n",
       "      <td>0.0</td>\n",
       "    </tr>\n",
       "    <tr>\n",
       "      <th>2025-01-14 00:00:00-05:00</th>\n",
       "      <td>136.059998</td>\n",
       "      <td>136.380005</td>\n",
       "      <td>130.050003</td>\n",
       "      <td>131.759995</td>\n",
       "      <td>193533536</td>\n",
       "      <td>0.0</td>\n",
       "      <td>0.0</td>\n",
       "    </tr>\n",
       "  </tbody>\n",
       "</table>\n",
       "<p>6536 rows × 7 columns</p>\n",
       "</div>"
      ],
      "text/plain": [
       "                                 Open        High         Low       Close  \\\n",
       "Date                                                                        \n",
       "1999-01-22 00:00:00-05:00    0.040122    0.044779    0.035585    0.037615   \n",
       "1999-01-25 00:00:00-05:00    0.040600    0.042033    0.037615    0.041556   \n",
       "1999-01-26 00:00:00-05:00    0.042033    0.042869    0.037734    0.038331   \n",
       "1999-01-27 00:00:00-05:00    0.038451    0.039406    0.036301    0.038212   \n",
       "1999-01-28 00:00:00-05:00    0.038212    0.038451    0.037854    0.038092   \n",
       "...                               ...         ...         ...         ...   \n",
       "2025-01-07 00:00:00-05:00  153.029999  153.130005  140.009995  140.139999   \n",
       "2025-01-08 00:00:00-05:00  142.580002  143.949997  137.559998  140.110001   \n",
       "2025-01-10 00:00:00-05:00  137.449997  139.919998  134.220001  135.910004   \n",
       "2025-01-13 00:00:00-05:00  129.990005  133.490005  129.509995  133.229996   \n",
       "2025-01-14 00:00:00-05:00  136.059998  136.380005  130.050003  131.759995   \n",
       "\n",
       "                               Volume  Dividends  Stock Splits  \n",
       "Date                                                            \n",
       "1999-01-22 00:00:00-05:00  2714688000        0.0           0.0  \n",
       "1999-01-25 00:00:00-05:00   510480000        0.0           0.0  \n",
       "1999-01-26 00:00:00-05:00   343200000        0.0           0.0  \n",
       "1999-01-27 00:00:00-05:00   244368000        0.0           0.0  \n",
       "1999-01-28 00:00:00-05:00   227520000        0.0           0.0  \n",
       "...                               ...        ...           ...  \n",
       "2025-01-07 00:00:00-05:00   351782200        0.0           0.0  \n",
       "2025-01-08 00:00:00-05:00   227349900        0.0           0.0  \n",
       "2025-01-10 00:00:00-05:00   207602500        0.0           0.0  \n",
       "2025-01-13 00:00:00-05:00   204808900        0.0           0.0  \n",
       "2025-01-14 00:00:00-05:00   193533536        0.0           0.0  \n",
       "\n",
       "[6536 rows x 7 columns]"
      ]
     },
     "execution_count": 23,
     "metadata": {},
     "output_type": "execute_result"
    }
   ],
   "source": [
    "nvidia_data"
   ]
  },
  {
   "cell_type": "code",
   "execution_count": null,
   "id": "fd396884-59b5-4074-a787-47b97c9c9421",
   "metadata": {},
   "outputs": [],
   "source": []
  }
 ],
 "metadata": {
  "kernelspec": {
   "display_name": "Python [conda env:shifa]",
   "language": "python",
   "name": "conda-env-shifa-py"
  },
  "language_info": {
   "codemirror_mode": {
    "name": "ipython",
    "version": 3
   },
   "file_extension": ".py",
   "mimetype": "text/x-python",
   "name": "python",
   "nbconvert_exporter": "python",
   "pygments_lexer": "ipython3",
   "version": "3.12.8"
  }
 },
 "nbformat": 4,
 "nbformat_minor": 5
}
